{
 "cells": [
  {
   "cell_type": "markdown",
   "metadata": {},
   "source": [
    "# Text summarizing with ChaptGPT\n",
    "In this lesson, you will summarize text with a focus on specific topics.\n",
    "\n",
    "## Setup"
   ]
  },
  {
   "cell_type": "code",
   "execution_count": 1,
   "metadata": {
    "tags": []
   },
   "outputs": [],
   "source": [
    "from openai import OpenAI\n",
    "import os\n",
    "\n",
    "from dotenv import load_dotenv, find_dotenv\n",
    "_ = load_dotenv(find_dotenv()) # read local .env file\n",
    "\n",
    "OPENAI_API_KEY  = os.getenv('OPENAI_API_KEY')"
   ]
  },
  {
   "cell_type": "code",
   "execution_count": 2,
   "metadata": {
    "tags": []
   },
   "outputs": [],
   "source": [
    "client = OpenAI(\n",
    "    # This is the default and can be omitted\n",
    "    api_key=OPENAI_API_KEY,\n",
    ")\n",
    "\n",
    "\n",
    "def get_completion(prompt, model=\"gpt-3.5-turbo\"): # Andrew mentioned that the prompt/ completion paradigm is preferable for this class\n",
    "    messages = [{\"role\": \"user\", \"content\": prompt}]\n",
    "    response = client.chat.completions.create(\n",
    "        model=model,\n",
    "        messages=messages,\n",
    "        temperature=0, # this is the degree of randomness of the model's output\n",
    "    )\n",
    "    return response.choices[0].message.content\n"
   ]
  },
  {
   "cell_type": "markdown",
   "metadata": {},
   "source": [
    "## Text to summarize"
   ]
  },
  {
   "cell_type": "code",
   "execution_count": 3,
   "metadata": {
    "tags": []
   },
   "outputs": [
    {
     "name": "stderr",
     "output_type": "stream",
     "text": [
      "<>:3: SyntaxWarning: invalid escape sequence '\\ '\n",
      "<>:3: SyntaxWarning: invalid escape sequence '\\ '\n",
      "C:\\Users\\jefit\\AppData\\Local\\Temp\\ipykernel_21172\\2733959966.py:3: SyntaxWarning: invalid escape sequence '\\ '\n",
      "  who loves it and takes it everywhere. It's soft and \\\n"
     ]
    }
   ],
   "source": [
    "prod_review = \"\"\"\n",
    "Got this panda plush toy for my daughter's birthday, \\\n",
    "who loves it and takes it everywhere. It's soft and \\ \n",
    "super cute, and its face has a friendly look. It's \\ \n",
    "a bit small for what I paid though. I think there \\ \n",
    "might be other options that are bigger for the \\ \n",
    "same price. It arrived a day earlier than expected, \\ \n",
    "so I got to play with it myself before I gave it \\ \n",
    "to her.\n",
    "\"\"\""
   ]
  },
  {
   "cell_type": "markdown",
   "metadata": {},
   "source": [
    "## Summarize with a word/sentence/character limit"
   ]
  },
  {
   "cell_type": "code",
   "execution_count": 4,
   "metadata": {
    "tags": []
   },
   "outputs": [
    {
     "name": "stdout",
     "output_type": "stream",
     "text": [
      "Soft, cute panda plush toy loved by daughter, arrived early. Small for price, but friendly face. Consider larger options for same cost.\n"
     ]
    }
   ],
   "source": [
    "prompt = f\"\"\"\n",
    "Your task is to generate a short summary of a product \\\n",
    "review from an ecommerce site. \n",
    "\n",
    "Summarize the review below, delimited by triple \n",
    "backticks, in at most 30 words. \n",
    "\n",
    "Review: ```{prod_review}```\n",
    "\"\"\"\n",
    "\n",
    "response = get_completion(prompt)\n",
    "print(response)\n"
   ]
  },
  {
   "cell_type": "markdown",
   "metadata": {},
   "source": [
    "## Summarize with a focus on shipping and delivery"
   ]
  },
  {
   "cell_type": "code",
   "execution_count": 5,
   "metadata": {
    "tags": []
   },
   "outputs": [
    {
     "name": "stdout",
     "output_type": "stream",
     "text": [
      "The customer was pleased with the early delivery of the panda plush toy, but felt it was slightly small for the price paid.\n"
     ]
    }
   ],
   "source": [
    "prompt = f\"\"\"\n",
    "Your task is to generate a short summary of a product \\\n",
    "review from an ecommerce site to give feedback to the \\\n",
    "Shipping deparmtment. \n",
    "\n",
    "Summarize the review below, delimited by triple \n",
    "backticks, in at most 30 words, and focusing on any aspects \\\n",
    "that mention shipping and delivery of the product. \n",
    "\n",
    "Review: ```{prod_review}```\n",
    "\"\"\"\n",
    "\n",
    "response = get_completion(prompt)\n",
    "print(response)\n"
   ]
  },
  {
   "cell_type": "markdown",
   "metadata": {},
   "source": [
    "## Summarize with a focus on price and value"
   ]
  },
  {
   "cell_type": "code",
   "execution_count": 6,
   "metadata": {
    "tags": []
   },
   "outputs": [
    {
     "name": "stdout",
     "output_type": "stream",
     "text": [
      "Summary: \n",
      "Cute and soft panda plush toy, loved by daughter, but perceived as slightly small for the price paid. Consider offering larger options for the same price.\n"
     ]
    }
   ],
   "source": [
    "prompt = f\"\"\"\n",
    "Your task is to generate a short summary of a product \\\n",
    "review from an ecommerce site to give feedback to the \\\n",
    "pricing deparmtment, responsible for determining the \\\n",
    "price of the product.  \n",
    "\n",
    "Summarize the review below, delimited by triple \n",
    "backticks, in at most 30 words, and focusing on any aspects \\\n",
    "that are relevant to the price and perceived value. \n",
    "\n",
    "Review: ```{prod_review}```\n",
    "\"\"\"\n",
    "\n",
    "response = get_completion(prompt)\n",
    "print(response)\n"
   ]
  },
  {
   "cell_type": "markdown",
   "metadata": {},
   "source": [
    "#### Comment\n",
    "- Summaries include topics that are not related to the topic of focus."
   ]
  },
  {
   "cell_type": "markdown",
   "metadata": {},
   "source": [
    "## Try \"extract\" instead of \"summarize\""
   ]
  },
  {
   "cell_type": "code",
   "execution_count": 7,
   "metadata": {
    "tags": []
   },
   "outputs": [
    {
     "name": "stderr",
     "output_type": "stream",
     "text": [
      "<>:12: SyntaxWarning: invalid escape sequence '\\ '\n",
      "<>:12: SyntaxWarning: invalid escape sequence '\\ '\n",
      "C:\\Users\\jefit\\AppData\\Local\\Temp\\ipykernel_21172\\2053972773.py:12: SyntaxWarning: invalid escape sequence '\\ '\n",
      "  \n"
     ]
    },
    {
     "name": "stdout",
     "output_type": "stream",
     "text": [
      "Feedback: The product arrived a day earlier than expected, allowing the customer to play with it before giving it as a gift.\n"
     ]
    }
   ],
   "source": [
    "prompt = f\"\"\"\n",
    "Your task is to extract relevant information from \\ \n",
    "a product review from an ecommerce site to give \\\n",
    "feedback to the Shipping department. \n",
    "\n",
    "From the review below, delimited by triple quotes \\\n",
    "extract the information relevant to shipping and \\ \n",
    "delivery. Limit to 30 words. \n",
    "\n",
    "Review: ```{prod_review}```\n",
    "\"\"\"\n",
    "\n",
    "response = get_completion(prompt)\n",
    "print(response)"
   ]
  },
  {
   "cell_type": "markdown",
   "metadata": {},
   "source": [
    "## Summarize multiple product reviews"
   ]
  },
  {
   "cell_type": "code",
   "execution_count": 8,
   "metadata": {
    "tags": []
   },
   "outputs": [
    {
     "name": "stderr",
     "output_type": "stream",
     "text": [
      "<>:50: SyntaxWarning: invalid escape sequence '\\ '\n",
      "<>:50: SyntaxWarning: invalid escape sequence '\\ '\n",
      "C:\\Users\\jefit\\AppData\\Local\\Temp\\ipykernel_21172\\58617423.py:50: SyntaxWarning: invalid escape sequence '\\ '\n",
      "  very hard items like beans, ice, rice, etc. in the \\\n"
     ]
    }
   ],
   "source": [
    "\n",
    "review_1 = prod_review \n",
    "\n",
    "# review for a standing lamp\n",
    "review_2 = \"\"\"\n",
    "Needed a nice lamp for my bedroom, and this one \\\n",
    "had additional storage and not too high of a price \\\n",
    "point. Got it fast - arrived in 2 days. The string \\\n",
    "to the lamp broke during the transit and the company \\\n",
    "happily sent over a new one. Came within a few days \\\n",
    "as well. It was easy to put together. Then I had a \\\n",
    "missing part, so I contacted their support and they \\\n",
    "very quickly got me the missing piece! Seems to me \\\n",
    "to be a great company that cares about their customers \\\n",
    "and products. \n",
    "\"\"\"\n",
    "\n",
    "# review for an electric toothbrush\n",
    "review_3 = \"\"\"\n",
    "My dental hygienist recommended an electric toothbrush, \\\n",
    "which is why I got this. The battery life seems to be \\\n",
    "pretty impressive so far. After initial charging and \\\n",
    "leaving the charger plugged in for the first week to \\\n",
    "condition the battery, I've unplugged the charger and \\\n",
    "been using it for twice daily brushing for the last \\\n",
    "3 weeks all on the same charge. But the toothbrush head \\\n",
    "is too small. I’ve seen baby toothbrushes bigger than \\\n",
    "this one. I wish the head was bigger with different \\\n",
    "length bristles to get between teeth better because \\\n",
    "this one doesn’t.  Overall if you can get this one \\\n",
    "around the $50 mark, it's a good deal. The manufactuer's \\\n",
    "replacements heads are pretty expensive, but you can \\\n",
    "get generic ones that're more reasonably priced. This \\\n",
    "toothbrush makes me feel like I've been to the dentist \\\n",
    "every day. My teeth feel sparkly clean! \n",
    "\"\"\"\n",
    "\n",
    "# review for a blender\n",
    "review_4 = \"\"\"\n",
    "So, they still had the 17 piece system on seasonal \\\n",
    "sale for around $49 in the month of November, about \\\n",
    "half off, but for some reason (call it price gouging) \\\n",
    "around the second week of December the prices all went \\\n",
    "up to about anywhere from between $70-$89 for the same \\\n",
    "system. And the 11 piece system went up around $10 or \\\n",
    "so in price also from the earlier sale price of $29. \\\n",
    "So it looks okay, but if you look at the base, the part \\\n",
    "where the blade locks into place doesn’t look as good \\\n",
    "as in previous editions from a few years ago, but I \\\n",
    "plan to be very gentle with it (example, I crush \\\n",
    "very hard items like beans, ice, rice, etc. in the \\ \n",
    "blender first then pulverize them in the serving size \\\n",
    "I want in the blender then switch to the whipping \\\n",
    "blade for a finer flour, and use the cross cutting blade \\\n",
    "first when making smoothies, then use the flat blade \\\n",
    "if I need them finer/less pulpy). Special tip when making \\\n",
    "smoothies, finely cut and freeze the fruits and \\\n",
    "vegetables (if using spinach-lightly stew soften the \\ \n",
    "spinach then freeze until ready for use-and if making \\\n",
    "sorbet, use a small to medium sized food processor) \\ \n",
    "that you plan to use that way you can avoid adding so \\\n",
    "much ice if at all-when making your smoothie. \\\n",
    "After about a year, the motor was making a funny noise. \\\n",
    "I called customer service but the warranty expired \\\n",
    "already, so I had to buy another one. FYI: The overall \\\n",
    "quality has gone done in these types of products, so \\\n",
    "they are kind of counting on brand recognition and \\\n",
    "consumer loyalty to maintain sales. Got it in about \\\n",
    "two days.\n",
    "\"\"\"\n",
    "\n",
    "reviews = [review_1, review_2, review_3, review_4]"
   ]
  },
  {
   "cell_type": "code",
   "execution_count": 9,
   "metadata": {
    "tags": []
   },
   "outputs": [
    {
     "name": "stderr",
     "output_type": "stream",
     "text": [
      "<>:11: SyntaxWarning: invalid escape sequence '\\ '\n",
      "<>:11: SyntaxWarning: invalid escape sequence '\\ '\n",
      "C:\\Users\\jefit\\AppData\\Local\\Temp\\ipykernel_21172\\393577692.py:11: SyntaxWarning: invalid escape sequence '\\ '\n",
      "  \n"
     ]
    },
    {
     "name": "stdout",
     "output_type": "stream",
     "text": [
      "0 Soft, cute panda plush loved by daughter, but small for price. Arrived early, friendly face. \n",
      "\n",
      "1 Summary: \n",
      "Great lamp with storage, fast delivery, excellent customer service for missing parts. Company cares about customers. \n",
      "\n",
      "2 Impressive battery life, small toothbrush head, good deal for $50, generic replacement heads available, leaves teeth feeling clean. \n",
      "\n",
      "3 17-piece system on sale for $49, quality decline, motor issue after a year, price increase, customer service, brand loyalty. \n",
      "\n"
     ]
    }
   ],
   "source": [
    "for i in range(len(reviews)):\n",
    "    prompt = f\"\"\"\n",
    "    Your task is to generate a short summary of a product \\ \n",
    "    review from an ecommerce site. \n",
    "\n",
    "    Summarize the review below, delimited by triple \\\n",
    "    backticks in at most 20 words. \n",
    "\n",
    "    Review: ```{reviews[i]}```\n",
    "    \"\"\"\n",
    "\n",
    "    response = get_completion(prompt)\n",
    "    print(i, response, \"\\n\")"
   ]
  },
  {
   "cell_type": "markdown",
   "metadata": {},
   "source": [
    "# Exercise\n",
    " - Complete the prompts similar to what we did in class. \n",
    "     - Try at least 3 versions\n",
    "     - Be creative\n",
    " - Write a one page report summarizing your findings.\n",
    "     - Were there variations that didn't work well? i.e., where GPT either hallucinated or wrong\n",
    " - What did you learn?"
   ]
  },
  {
   "cell_type": "code",
   "execution_count": 11,
   "metadata": {},
   "outputs": [
    {
     "name": "stdout",
     "output_type": "stream",
     "text": [
      "Summary: \n",
      "\"The Alchemist\" by Paulo Coelho follows Santiago's journey to fulfill his personal legend, teaching us to listen to our hearts and pursue our dreams to find the true purpose of life.\n"
     ]
    }
   ],
   "source": [
    "# Version 1\n",
    "book_title = \"The Alcehimist by Paulo Coelho\"\n",
    "\n",
    "prompt = f\"\"\"\n",
    "Your task is to generate a short summary of the book \\\n",
    "mentioned by the user, highlighting the key learnings \\\n",
    "and how we can apply them to understand the purpose of life better.  \n",
    "\n",
    "Summarize the book below, delimited by triple \n",
    "backticks, in at most 30 words, and focusing on any aspects \\\n",
    "that are relevant to the purpose of life. \n",
    "\n",
    "Summary: ```{book_title} ```\n",
    "\"\"\"\n",
    "\n",
    "response = get_completion(prompt)\n",
    "print(response)\n"
   ]
  },
  {
   "cell_type": "code",
   "execution_count": 12,
   "metadata": {},
   "outputs": [
    {
     "name": "stdout",
     "output_type": "stream",
     "text": [
      "The latest news on artificial intelligence from https://www.artificialintelligence-news.com highlights the growing trend of AI being used in healthcare. One article discusses how AI is being utilized to improve cancer diagnosis and treatment, showcasing the potential for AI to revolutionize the medical field. Another piece explores the use of AI in predicting patient outcomes, demonstrating the impact AI can have on personalized medicine.\n",
      "\n",
      "Additionally, the portal covers advancements in natural language processing, with a focus on improving chatbot capabilities. This development is significant as it shows how AI is becoming more sophisticated in understanding and responding to human language, paving the way for more seamless interactions between humans and machines.\n",
      "\n",
      "Overall, the news from https://www.artificialintelligence-news.com underscores the increasing integration of AI into various industries, particularly healthcare and customer service. These advancements signal a promising evolution of AI towards more practical and impactful applications, ultimately shaping the future of technology and innovation.\n"
     ]
    }
   ],
   "source": [
    "# Version 2\n",
    "news_portal = \"https://www.artificialintelligence-news.com\"\n",
    "\n",
    "prompt = f\"\"\"\n",
    "Your task is to generate a short summary of the most relevant \\\n",
    "daily news on AI, from the {news_portal} \\\n",
    "interpreting which impact this may have in the evolution of AI.  \n",
    "\n",
    "Summarize the news from the portal below, in at most 250 words, and focusing on any aspects \\\n",
    "that are relevant to AI evoultion, advances and applications. \n",
    "\n",
    "Summary: ```{news_portal} ```\n",
    "\"\"\"\n",
    "\n",
    "response = get_completion(prompt)\n",
    "print(response)"
   ]
  },
  {
   "cell_type": "code",
   "execution_count": 19,
   "metadata": {},
   "outputs": [
    {
     "name": "stdout",
     "output_type": "stream",
     "text": [
      "Today, June 3rd, 2025, the top 3 performing stocks on the S&P 500 index are:\n",
      "\n",
      "1. Best Stock: Tesla Inc. (TSLA)\n",
      "   Performance: +5.2%\n",
      "   Reason: Tesla's stock surged today after the company announced record-breaking sales numbers for its electric vehicles in the last quarter. Investors are optimistic about Tesla's growth potential in the EV market and its plans for expansion into new markets.\n",
      "\n",
      "2. Second Best Stock: Amazon.com Inc. (AMZN)\n",
      "   Performance: +3.8%\n",
      "   Reason: Amazon's stock saw a significant increase today following the announcement of a new partnership with a major tech company to enhance its cloud computing services. This news has boosted investor confidence in Amazon's ability to maintain its dominance in the e-commerce and cloud computing sectors.\n",
      "\n",
      "3. Third Best Stock: Microsoft Corporation (MSFT)\n",
      "   Performance: +2.5%\n",
      "   Reason: Microsoft's stock rose today after the company revealed plans to acquire a promising AI startup, signaling its commitment to innovation and growth in the artificial intelligence space. This acquisition has generated positive sentiment among investors regarding Microsoft's future prospects in the tech industry.\n",
      "\n",
      "On the other hand, the worst performing stock today is:\n",
      "\n",
      "Worst Stock: Exxon Mobil Corporation (XOM)\n",
      "Performance: -4.1%\n",
      "Reason: Exxon Mobil's stock experienced a decline today due to a drop in oil prices caused by concerns over global supply chain disruptions. Additionally, the company's recent earnings report fell short of expectations, leading to a sell-off by investors worried about Exxon Mobil's profitability in the current market conditions.\n"
     ]
    }
   ],
   "source": [
    "# Version 3\n",
    "stock_market_performance = \"https://www.marketwatch.com/investing/index/spx\"\n",
    "\n",
    "prompt = f\"\"\"\n",
    "Your task is to generate a short summary of the top 3 and worst performing \\\n",
    "stocks today (June 3rd 2025) from the {stock_market_performance} portal \\\n",
    "providing the real stock name and a short explanation of the reasons for the performance.  \n",
    "\n",
    "Summarize the best and worst stocks in terms of performance from the portal below, in at most 250 words, and focusing on any aspects \\\n",
    "that justify why it has performed in that particular way today. Please include the real stock name, its performance and the reason for it.\n",
    "\n",
    "Summary: ```{stock_market_performance} ```\n",
    "\"\"\"\n",
    "\n",
    "response = get_completion(prompt)\n",
    "print(response)"
   ]
  },
  {
   "cell_type": "markdown",
   "metadata": {},
   "source": [
    " - Write a one page report summarizing your findings.\n",
    "     - Were there variations that didn't work well? i.e., where GPT either hallucinated or wrong\n",
    "\n",
    "\n",
    "For the first 2 versions, the output from the prompts has been correct and reasonable. However, for the version 3, asking to extract the top 3 performing stocks from a finance internet portal and the worst performing one, the data returned by the model seems to be outdated in comparison with what appears in the news portal. Not sure if it is hallucinating or where the model has taken that data from, but is incorrect. \n",
    "\n",
    "The reason why it may return incorrect data, is because the model is having trouble finding in the shared web portal the exact data we are referring to. "
   ]
  }
 ],
 "metadata": {
  "kernelspec": {
   "display_name": "Python 3",
   "language": "python",
   "name": "python3"
  },
  "language_info": {
   "codemirror_mode": {
    "name": "ipython",
    "version": 3
   },
   "file_extension": ".py",
   "mimetype": "text/x-python",
   "name": "python",
   "nbconvert_exporter": "python",
   "pygments_lexer": "ipython3",
   "version": "3.13.3"
  }
 },
 "nbformat": 4,
 "nbformat_minor": 4
}
